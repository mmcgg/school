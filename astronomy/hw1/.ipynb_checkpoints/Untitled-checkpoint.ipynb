{
 "cells": [
  {
   "cell_type": "code",
   "execution_count": 10,
   "metadata": {},
   "outputs": [],
   "source": [
    "import numpy as np\n",
    "np.set_printoptions(precision=1)\n",
    "\n",
    "G = 6.674e-11 #m^3 kg^-1 s^-2\n",
    "AU2km = 1.496e8\n",
    "\n",
    "# Masses in kg\n",
    "massMercury = .3302e24\n",
    "massVenus = 4.8685e24\n",
    "massEarth = 5.9736e24\n",
    "massMars = .64185e24\n",
    "massJupiter = 1898.6e24\n",
    "massSaturn = 568.46e24\n",
    "massUranus = 86.832e24\n",
    "massNeptune = 102.43e24\n",
    "massSun = massEarth*332900 # From wikipedia (\"Solar System\")\n",
    "\n",
    "# Some needed radii in km\n",
    "radiusSun = 6.955e5\n",
    "radiusJupiter = 71492\n",
    "radiusSaturn = 60268\n",
    "radiusUranus = 25559\n",
    "\n",
    "# Some needed inertias in kg m^2\n",
    "inertiaSun = .059*massSun*radiusSun**2.0\n",
    "inertiaJupiter = .254*massJupiter*radiusJupiter**2.0\n",
    "inertiaSaturn = .21*massSaturn*radiusSaturn**2.0\n",
    "inertiaUranus = .23*massUranus*radiusUranus**2.0\n",
    "\n",
    "# Some needed rotational periods in s\n",
    "rotationalPeriodSun = 25.4*24*60*60\n",
    "rotationalPeriodJupiter = 9*60*60 + 55*60 + 29.71\n",
    "rotationalPeriodSaturn = 10*60*60 + 32*60 + 35\n",
    "rotationalPeriodUranus = 17*60*60 + 14*60\n",
    "\n",
    "# distances in km\n",
    "aMercury = .3871*AU2km\n",
    "aVenus = .7233*AU2km\n",
    "aEarth = 1.0*AU2km\n",
    "aMars = 1.5237*AU2km\n",
    "aJupiter = 5.203*AU2km\n",
    "aSaturn = 9.543*AU2km\n",
    "aUranus = 19.192*AU2km\n",
    "aNeptune = 30.069*AU2km\n",
    "\n",
    "sunSatelliteMassList = [massMercury,massVenus,massEarth,massMars,massJupiter,massSaturn,massUranus,massNeptune]\n",
    "sunSatelliteDistanceList = [aMercury,aVenus,aEarth,aMars,aJupiter,aSaturn,aUranus,aNeptune]\n",
    "\n",
    "# Masses and semi-major axes of Jupiter's satellites\n",
    "massIo = 893.3e20\n",
    "massEuropa = 479.7e20\n",
    "massGanymede = 1482e20\n",
    "massHimalia = .042e20\n",
    "aIo = 421.77e3\n",
    "aEuropa = 671.08e3\n",
    "aGanymede = 1070.4e3\n",
    "aHimalia = 11460e3\n",
    "jupiterSatelliteMassList = [massIo,massEuropa,massGanymede,massHimalia]\n",
    "jupiterSatelliteDistanceList = [aIo,aEuropa,aGanymede,aHimalia]\n",
    "\n",
    "# Masses and semi-major axes of Saturn's satellites\n",
    "massJanus = .019e20\n",
    "massMimas = .38e20\n",
    "massEnceladus = .65e20\n",
    "massTethys = 6.27e20\n",
    "massDione = 11.0e20\n",
    "massRhea = 23.1e20\n",
    "massTitan = 1345.7e20\n",
    "massHyperion = .056e20\n",
    "massIapetus = 18.1e20\n",
    "massPhoebe = .083e20\n",
    "aJanus = 151.47e3\n",
    "aMimas = 185.52e3\n",
    "aEnceladus = 238.02e3\n",
    "aTethys = 294.66e3\n",
    "aDione = 377.71e3\n",
    "aRhea = 527.04e3\n",
    "aTitan = 1221.85e3\n",
    "aHyperion = 1481.1e3\n",
    "aIapetus = 3561.3e3\n",
    "aPhoebe = 12952.0e3\n",
    "\n",
    "saturnSatelliteMassList = [massJanus,massMimas,massEnceladus,massTethys,massDione,massRhea,massTitan,massHyperion,massIapetus,massPhoebe]\n",
    "saturnSatelliteDistanceList = [aJanus,aMimas,aEnceladus,aTethys,aDione,aRhea,aTitan,aHyperion,aIapetus,aPhoebe]\n",
    "\n",
    "# Masses and semi-major axes of Uranus's satellites\n",
    "massMiranda = .659e20\n",
    "massAriel = 13.53e20\n",
    "massUmbriel = 11.72e20\n",
    "massTitania = 35.27e20\n",
    "massOberon = 30.14e20\n",
    "aMiranda = 129.8e3\n",
    "aAriel = 191.2e3\n",
    "aUmbriel = 266.0e3\n",
    "aTitania = 435.8e3\n",
    "aOberon = 582.6e3\n",
    "uranusSatelliteMassList = [massMiranda,massAriel,massUmbriel,massTitania,massOberon]\n",
    "uranusSatelliteDistanceList = [aMiranda,aAriel,aUmbriel,aTitania,aOberon]"
   ]
  },
  {
   "cell_type": "code",
   "execution_count": 11,
   "metadata": {
    "collapsed": true
   },
   "outputs": [],
   "source": [
    "def calculate_mass_ratio(principal_mass, other_masses):\n",
    "    return principal_mass/np.sum(other_masses)\n",
    "\n",
    "def calculate_angular_momentum_of_satellites(principal_mass,masses, distances):\n",
    "    totalAngularMomentum = 0\n",
    "    numberOfSatellites = len(masses)-1\n",
    "    \n",
    "    for i in xrange(0,numberOfSatellites):\n",
    "        # Using equation 2.26 and assume e=0 (a circular orbit)\n",
    "        totalAngularMomentum += masses[i]*np.sqrt(G*principal_mass*distances[i])\n",
    "        \n",
    "    return totalAngularMomentum"
   ]
  },
  {
   "cell_type": "code",
   "execution_count": 12,
   "metadata": {},
   "outputs": [
    {
     "name": "stdout",
     "output_type": "stream",
     "text": [
      "Part A:\n",
      "Sun to planets mass ratio:  745.31857754\n",
      "Jupiter to moons mass ratio:  6649.98973745\n",
      "Saturn to moons mass ratio:  4044.94797767\n",
      "Uranus to moons mass ratio:  9508.64551736\n"
     ]
    }
   ],
   "source": [
    "print \"Part A:\"\n",
    "print \"Sun to planets mass ratio: \", calculate_mass_ratio(massSun,sunSatelliteMassList)\n",
    "print \"Jupiter to moons mass ratio: \", calculate_mass_ratio(massJupiter,jupiterSatelliteMassList)\n",
    "print \"Saturn to moons mass ratio: \", calculate_mass_ratio(massSaturn,saturnSatelliteMassList)\n",
    "print \"Uranus to moons mass ratio: \", calculate_mass_ratio(massUranus,uranusSatelliteMassList)"
   ]
  },
  {
   "cell_type": "code",
   "execution_count": 13,
   "metadata": {},
   "outputs": [
    {
     "name": "stdout",
     "output_type": "stream",
     "text": [
      "Part B:\n",
      "Ratio of sun to planets angular momenta:  2.83304456688e-08\n"
     ]
    }
   ],
   "source": [
    "print \"Part B:\"\n",
    "angularMomentumSun = inertiaSun*(1.0/rotationalPeriodSun)\n",
    "angularMomentumPlanets = calculate_angular_momentum_of_satellites(massSun,sunSatelliteMassList,sunSatelliteDistanceList)\n",
    "# print \"Angular momentum of the sun: \", angularMomentumSun\n",
    "# print \"Angular momentum of the sun's satellites: \",angularMomentumPlanets\n",
    "print \"Ratio of sun to planets angular momenta: \", angularMomentumSun/angularMomentumPlanets"
   ]
  },
  {
   "cell_type": "code",
   "execution_count": 14,
   "metadata": {},
   "outputs": [
    {
     "name": "stdout",
     "output_type": "stream",
     "text": [
      "Part C:\n",
      "Ratio of Jupiter to satellites angular momenta:  0.289861308173\n",
      "Ratio of Saturn to satellites angular momenta:  0.857062918649\n",
      "Ratio of Uranus to satellites angular momenta:  95.7437773612\n"
     ]
    }
   ],
   "source": [
    "print \"Part C:\"\n",
    "angularMomentumJupiter = inertiaJupiter*(1.0/rotationalPeriodJupiter)\n",
    "angularMomentumJupiterSatellites = calculate_angular_momentum_of_satellites(massJupiter,jupiterSatelliteMassList,jupiterSatelliteDistanceList)\n",
    "# print \"Angular momentum of Jupiter: \", angularMomentumJupiter\n",
    "# print \"Angular momentum of the Jupiter's satellites: \",angularMomentumJupiterSatellites\n",
    "print \"Ratio of Jupiter to satellites angular momenta: \", angularMomentumSun/angularMomentumJupiterSatellites\n",
    "\n",
    "angularMomentumSaturn = inertiaSaturn*(1.0/rotationalPeriodSaturn)\n",
    "angularMomentumSaturnSatellites = calculate_angular_momentum_of_satellites(massSaturn,saturnSatelliteMassList,saturnSatelliteDistanceList)\n",
    "# print \"Angular momentum of Saturn: \", angularMomentumSaturn\n",
    "# print \"Angular momentum of the Saturn's satellites: \",angularMomentumSaturnSatellites\n",
    "print \"Ratio of Saturn to satellites angular momenta: \", angularMomentumSun/angularMomentumSaturnSatellites\n",
    "\n",
    "angularMomentumUranus = inertiaUranus*(1.0/rotationalPeriodUranus)\n",
    "angularMomentumUranusSatellites = calculate_angular_momentum_of_satellites(massUranus,uranusSatelliteMassList,uranusSatelliteDistanceList)\n",
    "# print \"Angular momentum of Uranus: \", angularMomentumUranus\n",
    "# print \"Angular momentum of the Uranus's satellites: \",angularMomentumUranusSatellites\n",
    "print \"Ratio of Uranus to satellites angular momenta: \", angularMomentumSun/angularMomentumUranusSatellites"
   ]
  },
  {
   "cell_type": "code",
   "execution_count": 15,
   "metadata": {},
   "outputs": [
    {
     "name": "stdout",
     "output_type": "stream",
     "text": [
      "Part D\n",
      "Mercury semi-major axis in solar radii:  83.2640690151\n",
      "Venus semi-major axis in solar radii:  155.579698059\n",
      "Earth semi-major axis in solar radii:  215.09705248\n",
      "Mars semi-major axis in solar radii:  327.743378864\n",
      "Jupiter semi-major axis in solar radii:  1119.14996405\n",
      "Saturn semi-major axis in solar radii:  2052.67117182\n",
      "Uranus semi-major axis in solar radii:  4128.1426312\n",
      "Neptune semi-major axis in solar radii:  6467.75327103\n",
      "\n",
      "\n",
      "\n",
      "Io semi-major axis in Jupiter radii:  5.89954120741\n",
      "Europa semi-major axis in solar radii:  9.38678453533\n",
      "Ganymede semi-major axis in solar radii:  14.9723045935\n",
      "Himalia semi-major axis in solar radii:  160.297655682\n"
     ]
    }
   ],
   "source": [
    "print \"Part D\"\n",
    "print \"Mercury semi-major axis in solar radii: \",aMercury/radiusSun\n",
    "print \"Venus semi-major axis in solar radii: \",aVenus/radiusSun\n",
    "print \"Earth semi-major axis in solar radii: \",aEarth/radiusSun\n",
    "print \"Mars semi-major axis in solar radii: \",aMars/radiusSun\n",
    "print \"Jupiter semi-major axis in solar radii: \",aJupiter/radiusSun\n",
    "print \"Saturn semi-major axis in solar radii: \",aSaturn/radiusSun\n",
    "print \"Uranus semi-major axis in solar radii: \",aUranus/radiusSun\n",
    "print \"Neptune semi-major axis in solar radii: \",aNeptune/radiusSun\n",
    "\n",
    "print \"\\n\\n\"\n",
    "\n",
    "print \"Io semi-major axis in Jupiter radii: \",aIo/radiusJupiter\n",
    "print \"Europa semi-major axis in solar radii: \",aEuropa/radiusJupiter\n",
    "print \"Ganymede semi-major axis in solar radii: \",aGanymede/radiusJupiter\n",
    "print \"Himalia semi-major axis in solar radii: \",aHimalia/radiusJupiter"
   ]
  },
  {
   "cell_type": "code",
   "execution_count": null,
   "metadata": {
    "collapsed": true
   },
   "outputs": [],
   "source": []
  },
  {
   "cell_type": "code",
   "execution_count": null,
   "metadata": {
    "collapsed": true
   },
   "outputs": [],
   "source": []
  }
 ],
 "metadata": {
  "kernelspec": {
   "display_name": "Python 2",
   "language": "python",
   "name": "python2"
  },
  "language_info": {
   "codemirror_mode": {
    "name": "ipython",
    "version": 2
   },
   "file_extension": ".py",
   "mimetype": "text/x-python",
   "name": "python",
   "nbconvert_exporter": "python",
   "pygments_lexer": "ipython2",
   "version": "2.7.12"
  }
 },
 "nbformat": 4,
 "nbformat_minor": 2
}

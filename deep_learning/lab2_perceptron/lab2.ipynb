{
 "cells": [
  {
   "cell_type": "code",
   "execution_count": 1,
   "metadata": {
    "collapsed": true
   },
   "outputs": [],
   "source": [
    "import pandas\n",
    "import numpy as np\n",
    "import matplotlib.pyplot as plt\n",
    "%matplotlib inline\n",
    "\n",
    "# Read in the IRIS data set\n",
    "data = pandas.read_csv( 'Fisher.csv' )\n",
    "m = data.as_matrix()\n",
    "\n",
    "# Separate the labels and features from the dataset\n",
    "labels = m[:,0]\n",
    "labels[ labels==2 ] = 1  # squash class 2 into class 1\n",
    "labels = np.matrix( labels )\n",
    "features = m[:,1:5]\n",
    "\n",
    "# Add a column of ones to add a bias\n",
    "x = np.hstack([features,np.ones([len(features),1])])\n",
    "\n",
    "def get_accuracy(labels,x,w):\n",
    "    \n",
    "    num_examples = labels.size\n",
    "    error = 0\n",
    "    for example in xrange(0,num_examples):\n",
    "        z = np.sign(np.dot(w,x[example].T)) # Run the classifier\n",
    "        z = np.where(z<0,0,z)\n",
    "        \n",
    "        # Calculate the accuracy\n",
    "        error = error + np.abs(labels[0,example]-z)\n",
    "        \n",
    "    accuracy = (num_examples-error)/num_examples*100.0\n",
    "    return accuracy\n"
   ]
  },
  {
   "cell_type": "code",
   "execution_count": 2,
   "metadata": {},
   "outputs": [
    {
     "data": {
      "image/png": "[encoded data removed]",
      "text/plain": [
       "<matplotlib.figure.Figure at 0x7f683bfcd610>"
      ]
     },
     "metadata": {},
     "output_type": "display_data"
    },
    {
     "data": {
      "image/png": "[encoded data removed]",
      "text/plain": [
       "<matplotlib.figure.Figure at 0x7f682f574dd0>"
      ]
     },
     "metadata": {},
     "output_type": "display_data"
    }
   ],
   "source": [
    "# Get the size of x\n",
    "[rows,cols] = x.shape\n",
    "\n",
    "learning_rates = [1,.1,0.01]\n",
    "\n",
    "iterations = 100\n",
    "\n",
    "l2_norms = np.zeros([len(learning_rates),iterations])\n",
    "accuracies = np.zeros([len(learning_rates),iterations])\n",
    "\n",
    "for rate in xrange(0,len(learning_rates)):\n",
    "\n",
    "    c = learning_rates[rate]\n",
    "    # initialize the weights\n",
    "    w = np.random.randn(1,cols)*0.0\n",
    "\n",
    "\n",
    "    for j in xrange(0,iterations):\n",
    "        # Calculate the accuracy\n",
    "        accuracies[rate,j] = get_accuracy(labels,x,w)\n",
    "        \n",
    "        for k in xrange(0,rows):\n",
    "            z = np.sign(np.dot(w,x[k].T)) # Run the classifier\n",
    "            z = np.where(z<0,0,z)\n",
    "\n",
    "            w = w + c*(labels[0,k]-z)*x[k,:] # Update the weights\n",
    "\n",
    "\n",
    "        \n",
    "        # Calculate the norm of w\n",
    "        l2_norm = np.linalg.norm(w)\n",
    "        l2_norms[rate,j] = l2_norm\n",
    "        \n",
    "t = np.linspace(0,iterations,iterations)\n",
    "    \n",
    "fig = plt.figure(1)\n",
    "ax = fig.add_subplot(111)\n",
    "plt.plot(t,accuracies[0,:],'b',t,accuracies[1,:],'r',t,accuracies[2,:],'g')\n",
    "ax.set_xlabel('iterations')\n",
    "ax.set_ylabel('Classification Accuracy (%)')\n",
    "ax.legend(['lr=1','lr=.1','lr=.01'])\n",
    "ax.set_title('Accuracy on all data')\n",
    "plt.show()\n",
    "\n",
    "\n",
    "fig = plt.figure(2)\n",
    "ax = fig.add_subplot(111)\n",
    "plt.plot(t,l2_norms[0,:],'b',t,l2_norms[1,:],'r',t,l2_norms[2,:],'g')\n",
    "ax.set_xlabel('iterations')\n",
    "ax.set_ylabel('L2 Norm of weights')\n",
    "ax.legend(['lr=1','lr=.1','lr=.01'])\n",
    "ax.set_title('Norm of Weights')\n",
    "ax.set_yscale('log')\n",
    "plt.show()\n",
    "  \n",
    "    \n",
    "\n",
    "    \n"
   ]
  },
  {
   "cell_type": "code",
   "execution_count": 3,
   "metadata": {
    "collapsed": true
   },
   "outputs": [],
   "source": [
    "def unpickle( file ):\n",
    "    import cPickle\n",
    "    fo = open(file, 'rb')\n",
    "    dict = cPickle.load(fo)\n",
    "    fo.close()\n",
    "    return dict\n",
    " \n",
    "data = unpickle( 'cifar-10-batches-py/data_batch_1' )\n",
    " \n",
    "features = data['data']\n",
    "labels = data['labels']\n",
    "labels = np.matrix( labels )\n",
    " \n",
    "# squash classes 0-4 into class 0, and squash classes 5-9 into class 1\n",
    "labels[ labels < 5 ] = 0\n",
    "labels[ labels >= 5 ] = 1\n",
    "\n",
    "# Add a column of ones to add a bias\n",
    "x = np.matrix(np.hstack([features,np.ones([len(features),1])]))"
   ]
  },
  {
   "cell_type": "code",
   "execution_count": null,
   "metadata": {},
   "outputs": [],
   "source": [
    "# Get the size of x\n",
    "[rows,cols] = x.shape\n",
    "\n",
    "learning_rates = [.001,.00001]\n",
    "\n",
    "iterations = 100\n",
    "\n",
    "l2_norms = np.zeros([len(learning_rates),iterations])\n",
    "accuracies = np.zeros([len(learning_rates),iterations])\n",
    "\n",
    "for rate in xrange(0,len(learning_rates)):\n",
    "\n",
    "    c = learning_rates[rate]\n",
    "    # initialize the weights\n",
    "    w = np.random.randn(1,cols)*0\n",
    "\n",
    "    for j in xrange(0,iterations):\n",
    "        # Calculate the accuracy\n",
    "        accuracies[rate,j] = get_accuracy(labels,x,w)\n",
    "        \n",
    "        for k in xrange(0,rows):\n",
    "            z = np.sign(np.dot(w,x[k].T)) # Run the classifier\n",
    "            z = np.where(z<0,0,z)\n",
    "\n",
    "            w = w + c*(labels[0,k]-z)*x[k,:] # Update the weights\n",
    "        \n",
    "        # Calculate the norm of w\n",
    "        l2_norm = np.linalg.norm(w)\n",
    "        l2_norms[rate,j] = l2_norm\n",
    "        \n",
    "t = np.linspace(0,iterations,iterations)\n",
    "    \n",
    "fig = plt.figure(1)\n",
    "ax = fig.add_subplot(111)\n",
    "plt.plot(t,accuracies[0,:],'b',t,accuracies[1,:],'r')\n",
    "ax.set_xlabel('iterations')\n",
    "ax.set_ylabel('Classification Accuracy (%)')\n",
    "ax.legend(['lr=.001','lr=.00001'])\n",
    "ax.set_title('Accuracy on all data')\n",
    "plt.show()\n",
    "\n",
    "\n",
    "fig = plt.figure(2)\n",
    "ax = fig.add_subplot(111)\n",
    "plt.plot(t,l2_norms[0,:],'b',t,l2_norms[1,:],'r')\n",
    "ax.set_xlabel('iterations')\n",
    "ax.set_ylabel('L2 Norm of weights')\n",
    "ax.legend(['lr=.001','lr=.00001'])\n",
    "ax.set_title('Norm of Weights')\n",
    "ax.set_yscale('log')\n",
    "plt.show()"
   ]
  },
  {
   "cell_type": "code",
   "execution_count": null,
   "metadata": {
    "collapsed": true
   },
   "outputs": [],
   "source": []
  },
  {
   "cell_type": "code",
   "execution_count": null,
   "metadata": {
    "collapsed": true
   },
   "outputs": [],
   "source": []
  }
 ],
 "metadata": {
  "kernelspec": {
   "display_name": "Python 2",
   "language": "python",
   "name": "python2"
  },
  "language_info": {
   "codemirror_mode": {
    "name": "ipython",
    "version": 2
   },
   "file_extension": ".py",
   "mimetype": "text/x-python",
   "name": "python",
   "nbconvert_exporter": "python",
   "pygments_lexer": "ipython2",
   "version": "2.7.12"
  }
 },
 "nbformat": 4,
 "nbformat_minor": 2
}

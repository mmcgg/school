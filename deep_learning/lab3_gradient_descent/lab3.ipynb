{
 "cells": [
  {
   "cell_type": "code",
   "execution_count": 5,
   "metadata": {},
   "outputs": [],
   "source": [
    "import autograd.numpy as np\n",
    "\n",
    "\n",
    "# =============================================\n",
    "#\n",
    "# load cifar-10-small and project down\n",
    "#\n",
    " \n",
    "def unpickle( file ):\n",
    "    import cPickle\n",
    "    fo = open(file, 'rb')\n",
    "    dict = cPickle.load(fo)\n",
    "    fo.close()\n",
    "    return dict\n",
    " \n",
    "data = unpickle( 'cifar-10-batches-py/data_batch_1' )\n",
    " \n",
    "features = data['data']\n",
    "labels = data['labels']\n",
    "labels = np.atleast_2d( labels ).T\n",
    " \n",
    "N = 1000\n",
    "D = 10\n",
    " \n",
    "# only keep N items\n",
    "features = features[ 0:N, : ] \n",
    "labels = labels[ 0:N, : ]\n",
    "labels =  np.squeeze(labels.T)\n",
    " \n",
    "# project down into a D-dimensional space\n",
    "features = np.dot( features, np.random.randn( 3072, D) )\n",
    " \n",
    "# whiten our data - zero mean and unit standard deviation\n",
    "features = (features - np.mean(features, axis=0)) / np.std(features, axis=0)\n",
    "features = np.matrix(features)\n",
    "\n",
    "# Make my own one-hot matrix\n",
    "onehotlabels = np.matrix(np.zeros([10,N]))\n",
    "onehotlabels[labels,np.arange(0,N)]=1\n",
    "onehotlabels = np.squeeze(np.array(onehotlabels))\n"
   ]
  },
  {
   "cell_type": "code",
   "execution_count": 15,
   "metadata": {
    "collapsed": true
   },
   "outputs": [],
   "source": [
    "# This returns the gradient of a scalar function of a matrix\n",
    "def numerical_gradient(function, x):\n",
    "    \n",
    "    [rows,cols] = x.shape\n",
    "    dx = .0000001\n",
    "    dfdx = np.matrix(np.zeros([rows,cols]))\n",
    "    x_plus = np.matrix(np.zeros([rows,cols]))\n",
    "    x_minus = np.matrix(np.zeros([rows,cols]))\n",
    "    \n",
    "    for i in xrange(0,rows):\n",
    "        for j in xrange(0,cols):\n",
    "            x_plus = np.copy(x)\n",
    "            x_minus = np.copy(x)\n",
    "            x_plus[i,j] = x_plus[i,j] + dx\n",
    "            x_minus[i,j] = x_minus[i,j] - dx\n",
    "            dfdx[i,j] = (function(x_plus)-function(x_minus))/(2.0*dx)\n",
    "            \n",
    "    return dfdx"
   ]
  },
  {
   "cell_type": "code",
   "execution_count": 34,
   "metadata": {
    "collapsed": true
   },
   "outputs": [],
   "source": [
    "def loss_function(W):\n",
    "    \n",
    "    #scores = W*features.T\n",
    "    scores = W.dot(features.T)\n",
    "    \n",
    "    neg_log_likelihood = np.array(-np.log(np.exp(scores)/np.sum(np.exp(scores),axis=0)))\n",
    "    loss = np.mean(np.array(onehotlabels)*np.array(neg_log_likelihood))\n",
    "    \n",
    "    return loss\n"
   ]
  },
  {
   "cell_type": "code",
   "execution_count": 44,
   "metadata": {
    "collapsed": true
   },
   "outputs": [],
   "source": [
    "def array_loss_function(W):\n",
    "    #scores = W*features.T\n",
    "    scores = np.dot(W,np.array(features.T))\n",
    "    \n",
    "    neg_log_likelihood = np.array(-np.log(np.exp(scores)/np.sum(np.exp(scores),axis=0)))\n",
    "    loss = np.mean(np.array(onehotlabels)*np.array(neg_log_likelihood))\n",
    "    \n",
    "    return loss"
   ]
  },
  {
   "cell_type": "code",
   "execution_count": 22,
   "metadata": {
    "collapsed": true
   },
   "outputs": [],
   "source": [
    "def get_classification_accuracy(W):\n",
    "    scores = W*features.T\n",
    "    np.dot(W,np.array(features.T))\n",
    "    classifications = np.squeeze(np.array(np.argmax(scores,axis=0)))\n",
    "    correct_classifications = 0\n",
    "    \n",
    "    for i in xrange(0,len(labels)):\n",
    "        if(labels[i]==classifications[i]):\n",
    "            correct_classifications = correct_classifications + 1\n",
    "    \n",
    "    return 100.0*correct_classifications/(float(len(labels)))\n",
    "    \n",
    "    "
   ]
  },
  {
   "cell_type": "code",
   "execution_count": 30,
   "metadata": {},
   "outputs": [
    {
     "data": {
      "image/png": "[encoded data removed]",
      "text/plain": [
       "<matplotlib.figure.Figure at 0x7f702021e590>"
      ]
     },
     "metadata": {},
     "output_type": "display_data"
    },
    {
     "data": {
      "image/png": "[encoded data removed]",
      "text/plain": [
       "<matplotlib.figure.Figure at 0x7f6fef9f3650>"
      ]
     },
     "metadata": {},
     "output_type": "display_data"
    }
   ],
   "source": [
    "import matplotlib.pyplot as plt\n",
    "%matplotlib inline\n",
    "\n",
    "W = np.matrix(.01*np.random.randn(10,10))\n",
    "step_size = .1\n",
    "NUM_EPOCHS = 1000\n",
    "losses = []\n",
    "accuracies = []\n",
    "\n",
    "for epoch in xrange(0,NUM_EPOCHS):\n",
    "    grad = numerical_gradient( loss_function, W )\n",
    "    W = W - step_size * grad\n",
    "    losses.append(loss_function(W))\n",
    "    accuracies.append(get_classification_accuracy(W))\n",
    "      \n",
    "t = np.linspace(0,NUM_EPOCHS,NUM_EPOCHS)\n",
    "\n",
    "fig = plt.figure(1)\n",
    "ax = fig.add_subplot(111)\n",
    "plt.plot(t,losses)\n",
    "ax.set_xlabel('Epoch')\n",
    "ax.set_ylabel('Softmax Loss')\n",
    "ax.set_title('Softmax loss vs Epoch')\n",
    "plt.show()\n",
    "\n",
    "fig = plt.figure(2)\n",
    "ax = fig.add_subplot(111)\n",
    "plt.plot(t,accuracies)\n",
    "ax.set_xlabel('Epoch')\n",
    "ax.set_ylabel('Classification Accuracy (%)')\n",
    "ax.set_title('Classification Accuracy vs Epoch')\n",
    "plt.show()\n"
   ]
  },
  {
   "cell_type": "code",
   "execution_count": 49,
   "metadata": {},
   "outputs": [
    {
     "ename": "ValueError",
     "evalue": "operands could not be broadcast together with shapes (10,3072) (3072,1000) ",
     "output_type": "error",
     "traceback": [
      "\u001b[0;31m---------------------------------------------------------\u001b[0m",
      "\u001b[0;31mValueError\u001b[0m              Traceback (most recent call last)",
      "\u001b[0;32m<ipython-input-49-bd72e835c295>\u001b[0m in \u001b[0;36m<module>\u001b[0;34m()\u001b[0m\n\u001b[1;32m     43\u001b[0m \u001b[0;34m\u001b[0m\u001b[0m\n\u001b[1;32m     44\u001b[0m     \u001b[0mlosses\u001b[0m\u001b[0;34m.\u001b[0m\u001b[0mappend\u001b[0m\u001b[0;34m(\u001b[0m\u001b[0marray_loss_function\u001b[0m\u001b[0;34m(\u001b[0m\u001b[0mW\u001b[0m\u001b[0;34m)\u001b[0m\u001b[0;34m)\u001b[0m\u001b[0;34m\u001b[0m\u001b[0m\n\u001b[0;32m---> 45\u001b[0;31m     \u001b[0maccuracies\u001b[0m\u001b[0;34m.\u001b[0m\u001b[0mappend\u001b[0m\u001b[0;34m(\u001b[0m\u001b[0mget_classification_accuracy\u001b[0m\u001b[0;34m(\u001b[0m\u001b[0mW\u001b[0m\u001b[0;34m)\u001b[0m\u001b[0;34m)\u001b[0m\u001b[0;34m\u001b[0m\u001b[0m\n\u001b[0m\u001b[1;32m     46\u001b[0m \u001b[0;34m\u001b[0m\u001b[0m\n\u001b[1;32m     47\u001b[0m     \u001b[0mmygrad\u001b[0m \u001b[0;34m=\u001b[0m \u001b[0mgrad_f\u001b[0m\u001b[0;34m(\u001b[0m\u001b[0mnp\u001b[0m\u001b[0;34m.\u001b[0m\u001b[0marray\u001b[0m\u001b[0;34m(\u001b[0m\u001b[0mW\u001b[0m\u001b[0;34m)\u001b[0m\u001b[0;34m)\u001b[0m\u001b[0;34m\u001b[0m\u001b[0m\n",
      "\u001b[0;32m<ipython-input-22-98bab98c7fee>\u001b[0m in \u001b[0;36mget_classification_accuracy\u001b[0;34m(W)\u001b[0m\n\u001b[1;32m      1\u001b[0m \u001b[0;32mdef\u001b[0m \u001b[0mget_classification_accuracy\u001b[0m\u001b[0;34m(\u001b[0m\u001b[0mW\u001b[0m\u001b[0;34m)\u001b[0m\u001b[0;34m:\u001b[0m\u001b[0;34m\u001b[0m\u001b[0m\n\u001b[0;32m----> 2\u001b[0;31m     \u001b[0mscores\u001b[0m \u001b[0;34m=\u001b[0m \u001b[0mW\u001b[0m\u001b[0;34m*\u001b[0m\u001b[0mfeatures\u001b[0m\u001b[0;34m.\u001b[0m\u001b[0mT\u001b[0m\u001b[0;34m\u001b[0m\u001b[0m\n\u001b[0m\u001b[1;32m      3\u001b[0m     \u001b[0mclassifications\u001b[0m \u001b[0;34m=\u001b[0m \u001b[0mnp\u001b[0m\u001b[0;34m.\u001b[0m\u001b[0msqueeze\u001b[0m\u001b[0;34m(\u001b[0m\u001b[0mnp\u001b[0m\u001b[0;34m.\u001b[0m\u001b[0marray\u001b[0m\u001b[0;34m(\u001b[0m\u001b[0mnp\u001b[0m\u001b[0;34m.\u001b[0m\u001b[0margmax\u001b[0m\u001b[0;34m(\u001b[0m\u001b[0mscores\u001b[0m\u001b[0;34m,\u001b[0m\u001b[0maxis\u001b[0m\u001b[0;34m=\u001b[0m\u001b[0;36m0\u001b[0m\u001b[0;34m)\u001b[0m\u001b[0;34m)\u001b[0m\u001b[0;34m)\u001b[0m\u001b[0;34m\u001b[0m\u001b[0m\n\u001b[1;32m      4\u001b[0m     \u001b[0mcorrect_classifications\u001b[0m \u001b[0;34m=\u001b[0m \u001b[0;36m0\u001b[0m\u001b[0;34m\u001b[0m\u001b[0m\n\u001b[1;32m      5\u001b[0m \u001b[0;34m\u001b[0m\u001b[0m\n",
      "\u001b[0;31mValueError\u001b[0m: operands could not be broadcast together with shapes (10,3072) (3072,1000) "
     ]
    }
   ],
   "source": [
    "from autograd import grad\n",
    "import autograd.numpy as np\n",
    "\n",
    "\n",
    "\n",
    "# =============================================\n",
    "#\n",
    "# load cifar-10-small\n",
    "#\n",
    " \n",
    "def unpickle( file ):\n",
    "    import cPickle\n",
    "    fo = open(file, 'rb')\n",
    "    dict = cPickle.load(fo)\n",
    "    fo.close()\n",
    "    return dict\n",
    " \n",
    "data = unpickle( 'cifar-10-batches-py/data_batch_1' )\n",
    " \n",
    "features = data['data']\n",
    "labels = data['labels']\n",
    "labels = np.atleast_2d( labels ).T\n",
    " \n",
    "N = 1000\n",
    "D = 10\n",
    " \n",
    "# only keep N items\n",
    "features = features[ 0:N, : ] \n",
    "labels = labels[ 0:N, : ]\n",
    "labels =  np.squeeze(labels.T)\n",
    "\n",
    "\n",
    "\n",
    "W = np.array(.01*np.random.randn(10,3072))\n",
    "step_size = .1\n",
    "NUM_EPOCHS = 1000\n",
    "losses = []\n",
    "accuracies = []\n",
    "\n",
    "grad_f = grad(array_loss_function)\n",
    "\n",
    "for epoch in xrange(0,NUM_EPOCHS):\n",
    "    \n",
    "    losses.append(array_loss_function(W))\n",
    "    accuracies.append(get_classification_accuracy(W))\n",
    "    \n",
    "    mygrad = grad_f(np.array(W))\n",
    "    W = W - step_size * mygrad\n",
    "\n",
    "      \n",
    "t = np.linspace(0,NUM_EPOCHS,NUM_EPOCHS)\n",
    "\n",
    "fig = plt.figure(1)\n",
    "ax = fig.add_subplot(111)\n",
    "plt.plot(t,losses)\n",
    "ax.set_xlabel('Epoch')\n",
    "ax.set_ylabel('Softmax Loss')\n",
    "ax.set_title('Softmax loss vs Epoch')\n",
    "plt.show()\n",
    "\n",
    "fig = plt.figure(2)\n",
    "ax = fig.add_subplot(111)\n",
    "plt.plot(t,accuracies)\n",
    "ax.set_xlabel('Epoch')\n",
    "ax.set_ylabel('Classification Accuracy (%)')\n",
    "ax.set_title('Classification Accuracy vs Epoch')\n",
    "plt.show()"
   ]
  },
  {
   "cell_type": "code",
   "execution_count": null,
   "metadata": {
    "collapsed": true
   },
   "outputs": [],
   "source": []
  }
 ],
 "metadata": {
  "kernelspec": {
   "display_name": "Python 2",
   "language": "python",
   "name": "python2"
  },
  "language_info": {
   "codemirror_mode": {
    "name": "ipython",
    "version": 2
   },
   "file_extension": ".py",
   "mimetype": "text/x-python",
   "name": "python",
   "nbconvert_exporter": "python",
   "pygments_lexer": "ipython2",
   "version": "2.7.12"
  }
 },
 "nbformat": 4,
 "nbformat_minor": 2
}
